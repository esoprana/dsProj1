{
 "cells": [
  {
   "cell_type": "code",
   "execution_count": 1,
   "metadata": {},
   "outputs": [],
   "source": [
    "import pandas as pd\n",
    "import os\n",
    "import glob"
   ]
  },
  {
   "cell_type": "code",
   "execution_count": 2,
   "metadata": {},
   "outputs": [],
   "source": [
    "OUTPUT_FOLDER = 'output.2019.nov.22.16_42_53'\n",
    "EVENTS_SIZE = 20"
   ]
  },
  {
   "cell_type": "code",
   "execution_count": 3,
   "metadata": {},
   "outputs": [],
   "source": [
    "def getDatasets(subFolder):\n",
    "    return {\n",
    "        os.path.basename(c)[:-4]: pd.read_csv(open(c), skipinitialspace=True)\n",
    "        for c in glob.glob(os.path.join(OUTPUT_FOLDER, subFolder, '*.csv'))\n",
    "    }\n",
    "\n",
    "eventHandled = getDatasets('eventHandled')\n",
    "eventReceived = getDatasets('eventReceived')\n",
    "createEvent = getDatasets('createEvent')\n",
    "\n",
    "retrieveTries = getDatasets('retrieveTries')\n",
    "retrieveFail = getDatasets('retrieveFail')\n",
    "retrieveFound = getDatasets('retrieveFound')\n",
    "\n",
    "dead = pd.read_csv(open(os.path.join(OUTPUT_FOLDER, 'dead.csv')), skipinitialspace=True)"
   ]
  },
  {
   "cell_type": "code",
   "execution_count": 4,
   "metadata": {},
   "outputs": [
    {
     "data": {
      "text/html": [
       "<div>\n",
       "<style scoped>\n",
       "    .dataframe tbody tr th:only-of-type {\n",
       "        vertical-align: middle;\n",
       "    }\n",
       "\n",
       "    .dataframe tbody tr th {\n",
       "        vertical-align: top;\n",
       "    }\n",
       "\n",
       "    .dataframe thead th {\n",
       "        text-align: right;\n",
       "    }\n",
       "</style>\n",
       "<table border=\"1\" class=\"dataframe\">\n",
       "  <thead>\n",
       "    <tr style=\"text-align: right;\">\n",
       "      <th></th>\n",
       "      <th>id</th>\n",
       "      <th>timestamp</th>\n",
       "      <th>round</th>\n",
       "    </tr>\n",
       "  </thead>\n",
       "  <tbody>\n",
       "    <tr>\n",
       "      <th>0</th>\n",
       "      <td>130</td>\n",
       "      <td>359.761525</td>\n",
       "      <td>13</td>\n",
       "    </tr>\n",
       "    <tr>\n",
       "      <th>1</th>\n",
       "      <td>141</td>\n",
       "      <td>391.682210</td>\n",
       "      <td>15</td>\n",
       "    </tr>\n",
       "    <tr>\n",
       "      <th>2</th>\n",
       "      <td>202</td>\n",
       "      <td>570.973020</td>\n",
       "      <td>21</td>\n",
       "    </tr>\n",
       "    <tr>\n",
       "      <th>3</th>\n",
       "      <td>235</td>\n",
       "      <td>658.100773</td>\n",
       "      <td>23</td>\n",
       "    </tr>\n",
       "    <tr>\n",
       "      <th>4</th>\n",
       "      <td>360</td>\n",
       "      <td>991.669067</td>\n",
       "      <td>35</td>\n",
       "    </tr>\n",
       "    <tr>\n",
       "      <th>...</th>\n",
       "      <td>...</td>\n",
       "      <td>...</td>\n",
       "      <td>...</td>\n",
       "    </tr>\n",
       "    <tr>\n",
       "      <th>338</th>\n",
       "      <td>20902</td>\n",
       "      <td>56977.229774</td>\n",
       "      <td>1901</td>\n",
       "    </tr>\n",
       "    <tr>\n",
       "      <th>339</th>\n",
       "      <td>20941</td>\n",
       "      <td>57083.798650</td>\n",
       "      <td>1904</td>\n",
       "    </tr>\n",
       "    <tr>\n",
       "      <th>340</th>\n",
       "      <td>20973</td>\n",
       "      <td>57182.257072</td>\n",
       "      <td>1908</td>\n",
       "    </tr>\n",
       "    <tr>\n",
       "      <th>341</th>\n",
       "      <td>20980</td>\n",
       "      <td>57202.800672</td>\n",
       "      <td>1908</td>\n",
       "    </tr>\n",
       "    <tr>\n",
       "      <th>342</th>\n",
       "      <td>21011</td>\n",
       "      <td>57295.338667</td>\n",
       "      <td>1911</td>\n",
       "    </tr>\n",
       "  </tbody>\n",
       "</table>\n",
       "<p>21117 rows × 3 columns</p>\n",
       "</div>"
      ],
      "text/plain": [
       "        id     timestamp  round\n",
       "0      130    359.761525     13\n",
       "1      141    391.682210     15\n",
       "2      202    570.973020     21\n",
       "3      235    658.100773     23\n",
       "4      360    991.669067     35\n",
       "..     ...           ...    ...\n",
       "338  20902  56977.229774   1901\n",
       "339  20941  57083.798650   1904\n",
       "340  20973  57182.257072   1908\n",
       "341  20980  57202.800672   1908\n",
       "342  21011  57295.338667   1911\n",
       "\n",
       "[21117 rows x 3 columns]"
      ]
     },
     "execution_count": 4,
     "metadata": {},
     "output_type": "execute_result"
    }
   ],
   "source": [
    "allCreateEvent = pd.concat(createEvent.values())\n",
    "lastRound = allCreateEvent['round'].max()\n",
    "\n",
    "consideredEvent = allCreateEvent.query(f'round < {lastRound - 15}')\n",
    "consideredEvent"
   ]
  },
  {
   "cell_type": "code",
   "execution_count": 5,
   "metadata": {},
   "outputs": [],
   "source": [
    "nodes = dead['id']"
   ]
  },
  {
   "cell_type": "markdown",
   "metadata": {},
   "source": [
    "# Delivery ratio"
   ]
  },
  {
   "cell_type": "code",
   "execution_count": 6,
   "metadata": {},
   "outputs": [
    {
     "data": {
      "text/html": [
       "<div>\n",
       "<style scoped>\n",
       "    .dataframe tbody tr th:only-of-type {\n",
       "        vertical-align: middle;\n",
       "    }\n",
       "\n",
       "    .dataframe tbody tr th {\n",
       "        vertical-align: top;\n",
       "    }\n",
       "\n",
       "    .dataframe thead th {\n",
       "        text-align: right;\n",
       "    }\n",
       "</style>\n",
       "<table border=\"1\" class=\"dataframe\">\n",
       "  <thead>\n",
       "    <tr style=\"text-align: right;\">\n",
       "      <th></th>\n",
       "      <th></th>\n",
       "      <th>id</th>\n",
       "      <th>timestamp</th>\n",
       "      <th>round</th>\n",
       "    </tr>\n",
       "    <tr>\n",
       "      <th>receiver</th>\n",
       "      <th></th>\n",
       "      <th></th>\n",
       "      <th></th>\n",
       "      <th></th>\n",
       "    </tr>\n",
       "  </thead>\n",
       "  <tbody>\n",
       "    <tr>\n",
       "      <th rowspan=\"5\" valign=\"top\">9cc8715d-b27b-4784-a465-e1900109a952</th>\n",
       "      <th>0</th>\n",
       "      <td>4</td>\n",
       "      <td>60.015097</td>\n",
       "      <td>4</td>\n",
       "    </tr>\n",
       "    <tr>\n",
       "      <th>1</th>\n",
       "      <td>8</td>\n",
       "      <td>90.012925</td>\n",
       "      <td>5</td>\n",
       "    </tr>\n",
       "    <tr>\n",
       "      <th>2</th>\n",
       "      <td>1</td>\n",
       "      <td>90.012974</td>\n",
       "      <td>5</td>\n",
       "    </tr>\n",
       "    <tr>\n",
       "      <th>3</th>\n",
       "      <td>11</td>\n",
       "      <td>90.013136</td>\n",
       "      <td>5</td>\n",
       "    </tr>\n",
       "    <tr>\n",
       "      <th>4</th>\n",
       "      <td>9</td>\n",
       "      <td>90.015250</td>\n",
       "      <td>5</td>\n",
       "    </tr>\n",
       "    <tr>\n",
       "      <th>...</th>\n",
       "      <th>...</th>\n",
       "      <td>...</td>\n",
       "      <td>...</td>\n",
       "      <td>...</td>\n",
       "    </tr>\n",
       "    <tr>\n",
       "      <th rowspan=\"5\" valign=\"top\">dcf98b96-82e7-4e30-93d5-3358f17e1e3b</th>\n",
       "      <th>62844</th>\n",
       "      <td>20957</td>\n",
       "      <td>58020.018308</td>\n",
       "      <td>1936</td>\n",
       "    </tr>\n",
       "    <tr>\n",
       "      <th>62845</th>\n",
       "      <td>21091</td>\n",
       "      <td>58050.014926</td>\n",
       "      <td>1937</td>\n",
       "    </tr>\n",
       "    <tr>\n",
       "      <th>62846</th>\n",
       "      <td>21036</td>\n",
       "      <td>58050.014926</td>\n",
       "      <td>1937</td>\n",
       "    </tr>\n",
       "    <tr>\n",
       "      <th>62847</th>\n",
       "      <td>21054</td>\n",
       "      <td>58050.014926</td>\n",
       "      <td>1937</td>\n",
       "    </tr>\n",
       "    <tr>\n",
       "      <th>62848</th>\n",
       "      <td>20957</td>\n",
       "      <td>58050.014926</td>\n",
       "      <td>1937</td>\n",
       "    </tr>\n",
       "  </tbody>\n",
       "</table>\n",
       "<p>3685098 rows × 3 columns</p>\n",
       "</div>"
      ],
      "text/plain": [
       "                                               id     timestamp  round\n",
       "receiver                                                              \n",
       "9cc8715d-b27b-4784-a465-e1900109a952 0          4     60.015097      4\n",
       "                                     1          8     90.012925      5\n",
       "                                     2          1     90.012974      5\n",
       "                                     3         11     90.013136      5\n",
       "                                     4          9     90.015250      5\n",
       "...                                           ...           ...    ...\n",
       "dcf98b96-82e7-4e30-93d5-3358f17e1e3b 62844  20957  58020.018308   1936\n",
       "                                     62845  21091  58050.014926   1937\n",
       "                                     62846  21036  58050.014926   1937\n",
       "                                     62847  21054  58050.014926   1937\n",
       "                                     62848  20957  58050.014926   1937\n",
       "\n",
       "[3685098 rows x 3 columns]"
      ]
     },
     "execution_count": 6,
     "metadata": {},
     "output_type": "execute_result"
    }
   ],
   "source": [
    "allEventHandled = pd.concat(eventHandled.values(), keys=eventHandled.keys(), names=[\"receiver\"])\n",
    "allEventHandled"
   ]
  },
  {
   "cell_type": "code",
   "execution_count": 7,
   "metadata": {},
   "outputs": [],
   "source": [
    "eventsPerRound = allCreateEvent.groupby('round').size().reset_index().set_index('round').rename(columns={0: 'number'})\n",
    "\n",
    "data = (allEventHandled.groupby(['round', 'receiver', 'id']) \\\n",
    "                       .size() \\\n",
    "                       .groupby(['round', 'receiver']) \\\n",
    "                       .size() \\\n",
    "                       .groupby('round').mean()) \\\n",
    "        .reset_index() \\\n",
    "        .set_index('round') \\\n",
    "        .rename(columns={0: 'deliveries'}) \\\n",
    "        .join(eventsPerRound)\n",
    "data['deliveryRatio'] = data['deliveries']/EVENTS_SIZE\n",
    "\n",
    "data = data.reset_index()[['round', 'deliveryRatio']]"
   ]
  },
  {
   "cell_type": "code",
   "execution_count": 8,
   "metadata": {},
   "outputs": [
    {
     "data": {
      "text/plain": [
       "round                                          3\n",
       "receiver    000f796d-57d9-4f99-8464-733e2eef6fec\n",
       "id                                             1\n",
       "0                                              1\n",
       "dtype: object"
      ]
     },
     "execution_count": 8,
     "metadata": {},
     "output_type": "execute_result"
    }
   ],
   "source": [
    "allEventHandled.groupby(['round', 'receiver', 'id']).size().reset_index().min()"
   ]
  },
  {
   "cell_type": "code",
   "execution_count": 9,
   "metadata": {},
   "outputs": [
    {
     "data": {
      "image/png": "[encoded data removed]",
      "text/plain": [
       "<Figure size 432x288 with 1 Axes>"
      ]
     },
     "metadata": {
      "needs_background": "light"
     },
     "output_type": "display_data"
    }
   ],
   "source": [
    "%matplotlib inline\n",
    "import matplotlib.pyplot as plt\n",
    "\n",
    "fig = plt.figure()\n",
    "ax = fig.add_axes([0,0,1,1])\n",
    "ax.set_title('Delivery ratio in time')\n",
    "ax.set_xlabel('Round')\n",
    "ax.set_ylabel('Delivery ratio')\n",
    "\n",
    "ax.plot(data['round'], data['deliveryRatio'], label='Uniform + random')\n",
    "ax.legend()\n",
    "plt.show()"
   ]
  },
  {
   "cell_type": "markdown",
   "metadata": {},
   "source": [
    "# Redundancy"
   ]
  },
  {
   "cell_type": "code",
   "execution_count": 10,
   "metadata": {},
   "outputs": [
    {
     "data": {
      "text/html": [
       "<div>\n",
       "<style scoped>\n",
       "    .dataframe tbody tr th:only-of-type {\n",
       "        vertical-align: middle;\n",
       "    }\n",
       "\n",
       "    .dataframe tbody tr th {\n",
       "        vertical-align: top;\n",
       "    }\n",
       "\n",
       "    .dataframe thead th {\n",
       "        text-align: right;\n",
       "    }\n",
       "</style>\n",
       "<table border=\"1\" class=\"dataframe\">\n",
       "  <thead>\n",
       "    <tr style=\"text-align: right;\">\n",
       "      <th></th>\n",
       "      <th></th>\n",
       "      <th>id</th>\n",
       "      <th>timestamp</th>\n",
       "      <th>round</th>\n",
       "    </tr>\n",
       "    <tr>\n",
       "      <th>receiver</th>\n",
       "      <th></th>\n",
       "      <th></th>\n",
       "      <th></th>\n",
       "      <th></th>\n",
       "    </tr>\n",
       "  </thead>\n",
       "  <tbody>\n",
       "    <tr>\n",
       "      <th rowspan=\"5\" valign=\"top\">9cc8715d-b27b-4784-a465-e1900109a952</th>\n",
       "      <th>0</th>\n",
       "      <td>4</td>\n",
       "      <td>60.015097</td>\n",
       "      <td>4</td>\n",
       "    </tr>\n",
       "    <tr>\n",
       "      <th>1</th>\n",
       "      <td>8</td>\n",
       "      <td>90.012925</td>\n",
       "      <td>5</td>\n",
       "    </tr>\n",
       "    <tr>\n",
       "      <th>2</th>\n",
       "      <td>1</td>\n",
       "      <td>90.012974</td>\n",
       "      <td>5</td>\n",
       "    </tr>\n",
       "    <tr>\n",
       "      <th>3</th>\n",
       "      <td>4</td>\n",
       "      <td>90.012974</td>\n",
       "      <td>5</td>\n",
       "    </tr>\n",
       "    <tr>\n",
       "      <th>4</th>\n",
       "      <td>11</td>\n",
       "      <td>90.013136</td>\n",
       "      <td>5</td>\n",
       "    </tr>\n",
       "    <tr>\n",
       "      <th>...</th>\n",
       "      <th>...</th>\n",
       "      <td>...</td>\n",
       "      <td>...</td>\n",
       "      <td>...</td>\n",
       "    </tr>\n",
       "    <tr>\n",
       "      <th rowspan=\"5\" valign=\"top\">dcf98b96-82e7-4e30-93d5-3358f17e1e3b</th>\n",
       "      <th>195700</th>\n",
       "      <td>21247</td>\n",
       "      <td>58050.014926</td>\n",
       "      <td>1937</td>\n",
       "    </tr>\n",
       "    <tr>\n",
       "      <th>195701</th>\n",
       "      <td>21036</td>\n",
       "      <td>58050.014926</td>\n",
       "      <td>1937</td>\n",
       "    </tr>\n",
       "    <tr>\n",
       "      <th>195702</th>\n",
       "      <td>21054</td>\n",
       "      <td>58050.014926</td>\n",
       "      <td>1937</td>\n",
       "    </tr>\n",
       "    <tr>\n",
       "      <th>195703</th>\n",
       "      <td>21091</td>\n",
       "      <td>58050.014926</td>\n",
       "      <td>1937</td>\n",
       "    </tr>\n",
       "    <tr>\n",
       "      <th>195704</th>\n",
       "      <td>21249</td>\n",
       "      <td>58050.014926</td>\n",
       "      <td>1937</td>\n",
       "    </tr>\n",
       "  </tbody>\n",
       "</table>\n",
       "<p>11468809 rows × 3 columns</p>\n",
       "</div>"
      ],
      "text/plain": [
       "                                                id     timestamp  round\n",
       "receiver                                                               \n",
       "9cc8715d-b27b-4784-a465-e1900109a952 0           4     60.015097      4\n",
       "                                     1           8     90.012925      5\n",
       "                                     2           1     90.012974      5\n",
       "                                     3           4     90.012974      5\n",
       "                                     4          11     90.013136      5\n",
       "...                                            ...           ...    ...\n",
       "dcf98b96-82e7-4e30-93d5-3358f17e1e3b 195700  21247  58050.014926   1937\n",
       "                                     195701  21036  58050.014926   1937\n",
       "                                     195702  21054  58050.014926   1937\n",
       "                                     195703  21091  58050.014926   1937\n",
       "                                     195704  21249  58050.014926   1937\n",
       "\n",
       "[11468809 rows x 3 columns]"
      ]
     },
     "execution_count": 10,
     "metadata": {},
     "output_type": "execute_result"
    }
   ],
   "source": [
    "allEventReceived = pd.concat(eventReceived.values(), keys=eventReceived.keys(), names=[\"receiver\"])\n",
    "allEventReceived"
   ]
  },
  {
   "cell_type": "code",
   "execution_count": 11,
   "metadata": {},
   "outputs": [],
   "source": [
    "final = pd.DataFrame(columns=['round', 'redundancy'])#, 'receiver'])\n",
    "\n",
    "for node in nodes:\n",
    "    currentEventReceived = eventReceived[node]\n",
    "    currentEventHandled = eventHandled[node]\n",
    "\n",
    "    evEh = currentEventHandled.groupby('id').min().reset_index()[['id', 'timestamp']].set_index('id')\n",
    "    w = currentEventReceived \\\n",
    "        .set_index('id') \\\n",
    "        .join(\n",
    "            evEh, \n",
    "            lsuffix='_received', \n",
    "            rsuffix='_handled') \\\n",
    "        .query('timestamp_received > timestamp_handled') \\\n",
    "        .groupby('round') \\\n",
    "        .size() \\\n",
    "        .reset_index() \\\n",
    "        .set_index('round') \\\n",
    "        .join(currentEventReceived.groupby('round').size().reset_index().set_index('round'), lsuffix='_redundant', rsuffix='_total') \\\n",
    "        .reset_index()\n",
    "\n",
    "    w['redundancy'] = w['0_redundant']/w['0_total']\n",
    "    w = w[['round', 'redundancy']]\n",
    "    \n",
    "    final = pd.concat([final,w])\n",
    "    \n",
    "final = final.groupby('round') \\\n",
    "             .mean() \\\n",
    "             .reset_index()"
   ]
  },
  {
   "cell_type": "code",
   "execution_count": 12,
   "metadata": {},
   "outputs": [
    {
     "data": {
      "image/png": "[encoded data removed]",
      "text/plain": [
       "<Figure size 432x288 with 1 Axes>"
      ]
     },
     "metadata": {
      "needs_background": "light"
     },
     "output_type": "display_data"
    }
   ],
   "source": [
    "%matplotlib inline\n",
    "import matplotlib.pyplot as plt\n",
    "\n",
    "fig = plt.figure()\n",
    "ax = fig.add_axes([0,0,1,1])\n",
    "ax.set_title('Redundancy in time')\n",
    "ax.set_xlabel('Round')\n",
    "ax.set_ylabel('Redundancy')\n",
    "\n",
    "ax.plot(final['round'], final['redundancy'], label='Uniform + random')\n",
    "ax.legend()\n",
    "plt.show()"
   ]
  },
  {
   "cell_type": "markdown",
   "metadata": {},
   "source": [
    "# Reliability"
   ]
  },
  {
   "cell_type": "code",
   "execution_count": 13,
   "metadata": {},
   "outputs": [
    {
     "data": {
      "text/html": [
       "<div>\n",
       "<style scoped>\n",
       "    .dataframe tbody tr th:only-of-type {\n",
       "        vertical-align: middle;\n",
       "    }\n",
       "\n",
       "    .dataframe tbody tr th {\n",
       "        vertical-align: top;\n",
       "    }\n",
       "\n",
       "    .dataframe thead th {\n",
       "        text-align: right;\n",
       "    }\n",
       "</style>\n",
       "<table border=\"1\" class=\"dataframe\">\n",
       "  <thead>\n",
       "    <tr style=\"text-align: right;\">\n",
       "      <th></th>\n",
       "      <th>nAlive</th>\n",
       "    </tr>\n",
       "    <tr>\n",
       "      <th>id</th>\n",
       "      <th></th>\n",
       "    </tr>\n",
       "  </thead>\n",
       "  <tbody>\n",
       "    <tr>\n",
       "      <th>130</th>\n",
       "      <td>60</td>\n",
       "    </tr>\n",
       "    <tr>\n",
       "      <th>141</th>\n",
       "      <td>60</td>\n",
       "    </tr>\n",
       "    <tr>\n",
       "      <th>202</th>\n",
       "      <td>60</td>\n",
       "    </tr>\n",
       "    <tr>\n",
       "      <th>235</th>\n",
       "      <td>60</td>\n",
       "    </tr>\n",
       "    <tr>\n",
       "      <th>360</th>\n",
       "      <td>60</td>\n",
       "    </tr>\n",
       "    <tr>\n",
       "      <th>...</th>\n",
       "      <td>...</td>\n",
       "    </tr>\n",
       "    <tr>\n",
       "      <th>20902</th>\n",
       "      <td>60</td>\n",
       "    </tr>\n",
       "    <tr>\n",
       "      <th>20941</th>\n",
       "      <td>60</td>\n",
       "    </tr>\n",
       "    <tr>\n",
       "      <th>20973</th>\n",
       "      <td>60</td>\n",
       "    </tr>\n",
       "    <tr>\n",
       "      <th>20980</th>\n",
       "      <td>60</td>\n",
       "    </tr>\n",
       "    <tr>\n",
       "      <th>21011</th>\n",
       "      <td>60</td>\n",
       "    </tr>\n",
       "  </tbody>\n",
       "</table>\n",
       "<p>21117 rows × 1 columns</p>\n",
       "</div>"
      ],
      "text/plain": [
       "       nAlive\n",
       "id           \n",
       "130        60\n",
       "141        60\n",
       "202        60\n",
       "235        60\n",
       "360        60\n",
       "...       ...\n",
       "20902      60\n",
       "20941      60\n",
       "20973      60\n",
       "20980      60\n",
       "21011      60\n",
       "\n",
       "[21117 rows x 1 columns]"
      ]
     },
     "execution_count": 13,
     "metadata": {},
     "output_type": "execute_result"
    }
   ],
   "source": [
    "aliveForMessageId = allCreateEvent.copy()\n",
    "aliveForMessageId['nAlive'] = aliveForMessageId.timestamp.apply(lambda t: sum((dead.timestamp < 0) | (dead.timestamp > t)))\n",
    "aliveForMessageId = aliveForMessageId[aliveForMessageId.id.isin(consideredEvent.id)][['id', 'nAlive']].set_index('id')\n",
    "aliveForMessageId"
   ]
  },
  {
   "cell_type": "code",
   "execution_count": 14,
   "metadata": {},
   "outputs": [
    {
     "data": {
      "text/html": [
       "<div>\n",
       "<style scoped>\n",
       "    .dataframe tbody tr th:only-of-type {\n",
       "        vertical-align: middle;\n",
       "    }\n",
       "\n",
       "    .dataframe tbody tr th {\n",
       "        vertical-align: top;\n",
       "    }\n",
       "\n",
       "    .dataframe thead th {\n",
       "        text-align: right;\n",
       "    }\n",
       "</style>\n",
       "<table border=\"1\" class=\"dataframe\">\n",
       "  <thead>\n",
       "    <tr style=\"text-align: right;\">\n",
       "      <th></th>\n",
       "      <th>id</th>\n",
       "      <th>0</th>\n",
       "    </tr>\n",
       "  </thead>\n",
       "  <tbody>\n",
       "    <tr>\n",
       "      <th>0</th>\n",
       "      <td>1</td>\n",
       "      <td>60</td>\n",
       "    </tr>\n",
       "    <tr>\n",
       "      <th>1</th>\n",
       "      <td>2</td>\n",
       "      <td>60</td>\n",
       "    </tr>\n",
       "    <tr>\n",
       "      <th>2</th>\n",
       "      <td>3</td>\n",
       "      <td>60</td>\n",
       "    </tr>\n",
       "    <tr>\n",
       "      <th>3</th>\n",
       "      <td>4</td>\n",
       "      <td>60</td>\n",
       "    </tr>\n",
       "    <tr>\n",
       "      <th>4</th>\n",
       "      <td>5</td>\n",
       "      <td>60</td>\n",
       "    </tr>\n",
       "    <tr>\n",
       "      <th>...</th>\n",
       "      <td>...</td>\n",
       "      <td>...</td>\n",
       "    </tr>\n",
       "    <tr>\n",
       "      <th>21112</th>\n",
       "      <td>21113</td>\n",
       "      <td>40</td>\n",
       "    </tr>\n",
       "    <tr>\n",
       "      <th>21113</th>\n",
       "      <td>21114</td>\n",
       "      <td>59</td>\n",
       "    </tr>\n",
       "    <tr>\n",
       "      <th>21114</th>\n",
       "      <td>21115</td>\n",
       "      <td>50</td>\n",
       "    </tr>\n",
       "    <tr>\n",
       "      <th>21115</th>\n",
       "      <td>21116</td>\n",
       "      <td>54</td>\n",
       "    </tr>\n",
       "    <tr>\n",
       "      <th>21116</th>\n",
       "      <td>21117</td>\n",
       "      <td>54</td>\n",
       "    </tr>\n",
       "  </tbody>\n",
       "</table>\n",
       "<p>21117 rows × 2 columns</p>\n",
       "</div>"
      ],
      "text/plain": [
       "          id   0\n",
       "0          1  60\n",
       "1          2  60\n",
       "2          3  60\n",
       "3          4  60\n",
       "4          5  60\n",
       "...      ...  ..\n",
       "21112  21113  40\n",
       "21113  21114  59\n",
       "21114  21115  50\n",
       "21115  21116  54\n",
       "21116  21117  54\n",
       "\n",
       "[21117 rows x 2 columns]"
      ]
     },
     "execution_count": 14,
     "metadata": {},
     "output_type": "execute_result"
    }
   ],
   "source": [
    "w = allEventHandled.groupby(['receiver', 'id']).size().groupby('id').size().reset_index()\n",
    "w = w[w['id'].isin(list(consideredEvent.id))]\n",
    "w"
   ]
  },
  {
   "cell_type": "code",
   "execution_count": 15,
   "metadata": {},
   "outputs": [
    {
     "data": {
      "text/plain": [
       "0.7992225852788432"
      ]
     },
     "execution_count": 15,
     "metadata": {},
     "output_type": "execute_result"
    }
   ],
   "source": [
    "w = w.rename(columns={0: 'handled'}).set_index('id').join(aliveForMessageId)\n",
    "(w['handled'] / w['nAlive']).mean()"
   ]
  },
  {
   "cell_type": "markdown",
   "metadata": {},
   "source": [
    "# Throughput"
   ]
  },
  {
   "cell_type": "code",
   "execution_count": 16,
   "metadata": {},
   "outputs": [],
   "source": [
    "obtainedByAll = allEventHandled.groupby(['receiver', 'id']) \\\n",
    "                               .size() \\\n",
    "                               .groupby('id') \\\n",
    "                               .size() \\\n",
    "                               .reset_index() \\\n",
    "                               .rename(columns={0: 'nObtained'})\n",
    "\n",
    "obtainedByAll = obtainedByAll[obtainedByAll.id.isin(consideredEvent.id)]"
   ]
  },
  {
   "cell_type": "code",
   "execution_count": 17,
   "metadata": {},
   "outputs": [
    {
     "data": {
      "text/plain": [
       "id\n",
       "1        1.000000\n",
       "2        1.000000\n",
       "3        1.000000\n",
       "4        1.000000\n",
       "5        1.000000\n",
       "           ...   \n",
       "21113    0.666667\n",
       "21114    0.983333\n",
       "21115    0.833333\n",
       "21116    0.900000\n",
       "21117    0.900000\n",
       "Length: 21117, dtype: float64"
      ]
     },
     "execution_count": 17,
     "metadata": {},
     "output_type": "execute_result"
    }
   ],
   "source": [
    "obtainedVsAlive = obtainedByAll.set_index('id').join(aliveForMessageId)\n",
    "stability = obtainedVsAlive['nObtained'] / obtainedVsAlive['nAlive']\n",
    "stability"
   ]
  },
  {
   "cell_type": "code",
   "execution_count": 18,
   "metadata": {},
   "outputs": [
    {
     "data": {
      "image/png": "[encoded data removed]",
      "text/plain": [
       "<Figure size 432x288 with 1 Axes>"
      ]
     },
     "metadata": {
      "needs_background": "light"
     },
     "output_type": "display_data"
    }
   ],
   "source": [
    "plt.hist(stability, bins=100)\n",
    "plt.show()"
   ]
  },
  {
   "cell_type": "code",
   "execution_count": 19,
   "metadata": {},
   "outputs": [
    {
     "data": {
      "text/plain": [
       "nObtained    0.098878\n",
       "nAlive       0.098878\n",
       "dtype: float64"
      ]
     },
     "execution_count": 19,
     "metadata": {},
     "output_type": "execute_result"
    }
   ],
   "source": [
    "sum( obtainedVsAlive['nObtained'] == obtainedVsAlive['nAlive'] ) / obtainedVsAlive.count()"
   ]
  },
  {
   "cell_type": "code",
   "execution_count": 20,
   "metadata": {},
   "outputs": [
    {
     "data": {
      "text/html": [
       "<div>\n",
       "<style scoped>\n",
       "    .dataframe tbody tr th:only-of-type {\n",
       "        vertical-align: middle;\n",
       "    }\n",
       "\n",
       "    .dataframe tbody tr th {\n",
       "        vertical-align: top;\n",
       "    }\n",
       "\n",
       "    .dataframe thead th {\n",
       "        text-align: right;\n",
       "    }\n",
       "</style>\n",
       "<table border=\"1\" class=\"dataframe\">\n",
       "  <thead>\n",
       "    <tr style=\"text-align: right;\">\n",
       "      <th></th>\n",
       "      <th>nObtained</th>\n",
       "      <th>nAlive</th>\n",
       "    </tr>\n",
       "    <tr>\n",
       "      <th>id</th>\n",
       "      <th></th>\n",
       "      <th></th>\n",
       "    </tr>\n",
       "  </thead>\n",
       "  <tbody>\n",
       "  </tbody>\n",
       "</table>\n",
       "</div>"
      ],
      "text/plain": [
       "Empty DataFrame\n",
       "Columns: [nObtained, nAlive]\n",
       "Index: []"
      ]
     },
     "execution_count": 20,
     "metadata": {},
     "output_type": "execute_result"
    }
   ],
   "source": [
    "obtainedVsAlive.query('nObtained == 1')"
   ]
  },
  {
   "cell_type": "code",
   "execution_count": null,
   "metadata": {},
   "outputs": [],
   "source": []
  }
 ],
 "metadata": {
  "kernelspec": {
   "display_name": "Python 3",
   "language": "python",
   "name": "python3"
  },
  "language_info": {
   "codemirror_mode": {
    "name": "ipython",
    "version": 3
   },
   "file_extension": ".py",
   "mimetype": "text/x-python",
   "name": "python",
   "nbconvert_exporter": "python",
   "pygments_lexer": "ipython3",
   "version": "3.8.0"
  }
 },
 "nbformat": 4,
 "nbformat_minor": 4
}
