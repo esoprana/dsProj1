{
 "cells": [
  {
   "cell_type": "code",
   "execution_count": 242,
   "metadata": {},
   "outputs": [],
   "source": [
    "%matplotlib inline\n",
    "import matplotlib.pyplot as plt\n",
    "from matplotlib.ticker import PercentFormatter, MultipleLocator\n",
    "import matplotlib.lines\n",
    "\n",
    "import pandas as pd\n",
    "import numpy as np\n",
    "import os\n",
    "import glob"
   ]
  },
  {
   "cell_type": "code",
   "execution_count": 243,
   "metadata": {},
   "outputs": [],
   "source": [
    "def getDatasets(subFolder):\n",
    "    return {\n",
    "        os.path.basename(c)[:-4]: pd.read_csv(open(c), skipinitialspace=True)\n",
    "        for c in glob.glob(os.path.join(OUTPUT_FOLDER, subFolder, '*.csv'))\n",
    "    }"
   ]
  },
  {
   "cell_type": "code",
   "execution_count": 244,
   "metadata": {},
   "outputs": [],
   "source": [
    "OUTPUT_FOLDER = 'output.2019.dic.11.14_37_16'\n"
   ]
  },
  {
   "cell_type": "code",
   "execution_count": 245,
   "metadata": {},
   "outputs": [],
   "source": [
    "eventHandled = getDatasets('eventHandled')\n",
    "eventReceived = getDatasets('eventReceived')\n",
    "createEvent = getDatasets('createEvent')\n",
    "\n",
    "retrieveTries = getDatasets('retrieveTries')\n",
    "retrieveFail = getDatasets('retrieveFail')\n",
    "retrieveFound = getDatasets('retrieveFound')\n",
    "\n",
    "dead = pd.read_csv(open(os.path.join(OUTPUT_FOLDER, 'dead.csv')), skipinitialspace=True)"
   ]
  },
  {
   "cell_type": "markdown",
   "metadata": {},
   "source": [
    "# Cleanup and useful calculation"
   ]
  },
  {
   "cell_type": "code",
   "execution_count": 246,
   "metadata": {},
   "outputs": [
    {
     "data": {
      "text/html": [
       "<div>\n",
       "<style scoped>\n",
       "    .dataframe tbody tr th:only-of-type {\n",
       "        vertical-align: middle;\n",
       "    }\n",
       "\n",
       "    .dataframe tbody tr th {\n",
       "        vertical-align: top;\n",
       "    }\n",
       "\n",
       "    .dataframe thead th {\n",
       "        text-align: right;\n",
       "    }\n",
       "</style>\n",
       "<table border=\"1\" class=\"dataframe\">\n",
       "  <thead>\n",
       "    <tr style=\"text-align: right;\">\n",
       "      <th></th>\n",
       "      <th>id</th>\n",
       "      <th>timestamp</th>\n",
       "      <th>round</th>\n",
       "    </tr>\n",
       "  </thead>\n",
       "  <tbody>\n",
       "    <tr>\n",
       "      <th>0</th>\n",
       "      <td>146</td>\n",
       "      <td>166.860214</td>\n",
       "      <td>7</td>\n",
       "    </tr>\n",
       "    <tr>\n",
       "      <th>1</th>\n",
       "      <td>194</td>\n",
       "      <td>211.995390</td>\n",
       "      <td>9</td>\n",
       "    </tr>\n",
       "    <tr>\n",
       "      <th>2</th>\n",
       "      <td>374</td>\n",
       "      <td>382.837824</td>\n",
       "      <td>14</td>\n",
       "    </tr>\n",
       "    <tr>\n",
       "      <th>3</th>\n",
       "      <td>406</td>\n",
       "      <td>408.133990</td>\n",
       "      <td>15</td>\n",
       "    </tr>\n",
       "    <tr>\n",
       "      <th>4</th>\n",
       "      <td>424</td>\n",
       "      <td>431.717198</td>\n",
       "      <td>16</td>\n",
       "    </tr>\n",
       "    <tr>\n",
       "      <th>...</th>\n",
       "      <td>...</td>\n",
       "      <td>...</td>\n",
       "      <td>...</td>\n",
       "    </tr>\n",
       "    <tr>\n",
       "      <th>188</th>\n",
       "      <td>10351</td>\n",
       "      <td>9728.810972</td>\n",
       "      <td>326</td>\n",
       "    </tr>\n",
       "    <tr>\n",
       "      <th>189</th>\n",
       "      <td>10376</td>\n",
       "      <td>9753.102033</td>\n",
       "      <td>327</td>\n",
       "    </tr>\n",
       "    <tr>\n",
       "      <th>190</th>\n",
       "      <td>10436</td>\n",
       "      <td>9810.632510</td>\n",
       "      <td>329</td>\n",
       "    </tr>\n",
       "    <tr>\n",
       "      <th>191</th>\n",
       "      <td>10583</td>\n",
       "      <td>9949.895198</td>\n",
       "      <td>333</td>\n",
       "    </tr>\n",
       "    <tr>\n",
       "      <th>192</th>\n",
       "      <td>10598</td>\n",
       "      <td>9967.307677</td>\n",
       "      <td>334</td>\n",
       "    </tr>\n",
       "  </tbody>\n",
       "</table>\n",
       "<p>10636 rows × 3 columns</p>\n",
       "</div>"
      ],
      "text/plain": [
       "        id    timestamp round\n",
       "0      146   166.860214     7\n",
       "1      194   211.995390     9\n",
       "2      374   382.837824    14\n",
       "3      406   408.133990    15\n",
       "4      424   431.717198    16\n",
       "..     ...          ...   ...\n",
       "188  10351  9728.810972   326\n",
       "189  10376  9753.102033   327\n",
       "190  10436  9810.632510   329\n",
       "191  10583  9949.895198   333\n",
       "192  10598  9967.307677   334\n",
       "\n",
       "[10636 rows x 3 columns]"
      ]
     },
     "metadata": {},
     "output_type": "display_data"
    },
    {
     "data": {
      "text/plain": [
       "0        146\n",
       "1        194\n",
       "2        374\n",
       "3        406\n",
       "4        424\n",
       "       ...  \n",
       "177     9813\n",
       "178    10013\n",
       "179    10033\n",
       "180    10113\n",
       "181    10117\n",
       "Name: id, Length: 10144, dtype: object"
      ]
     },
     "execution_count": 246,
     "metadata": {},
     "output_type": "execute_result"
    }
   ],
   "source": [
    "allCreateEvent = pd.concat(createEvent.values())\n",
    "lastRound = allCreateEvent['round'].max()\n",
    "lastConsideredRound = lastRound-15\n",
    "display(allCreateEvent)\n",
    "consideredEvent = allCreateEvent.query(f'round < {lastConsideredRound}')['id']\n",
    "consideredEvent"
   ]
  },
  {
   "cell_type": "code",
   "execution_count": 247,
   "metadata": {},
   "outputs": [],
   "source": [
    "nodes = dead['id']"
   ]
  },
  {
   "cell_type": "code",
   "execution_count": 248,
   "metadata": {},
   "outputs": [
    {
     "data": {
      "text/html": [
       "<div>\n",
       "<style scoped>\n",
       "    .dataframe tbody tr th:only-of-type {\n",
       "        vertical-align: middle;\n",
       "    }\n",
       "\n",
       "    .dataframe tbody tr th {\n",
       "        vertical-align: top;\n",
       "    }\n",
       "\n",
       "    .dataframe thead th {\n",
       "        text-align: right;\n",
       "    }\n",
       "</style>\n",
       "<table border=\"1\" class=\"dataframe\">\n",
       "  <thead>\n",
       "    <tr style=\"text-align: right;\">\n",
       "      <th></th>\n",
       "      <th></th>\n",
       "      <th>id</th>\n",
       "      <th>timestamp</th>\n",
       "      <th>round</th>\n",
       "    </tr>\n",
       "    <tr>\n",
       "      <th>receiver</th>\n",
       "      <th></th>\n",
       "      <th></th>\n",
       "      <th></th>\n",
       "      <th></th>\n",
       "    </tr>\n",
       "  </thead>\n",
       "  <tbody>\n",
       "    <tr>\n",
       "      <th rowspan=\"5\" valign=\"top\">809915f6-bc36-4a59-b8bb-78374e6d103d</th>\n",
       "      <th>0</th>\n",
       "      <td>14</td>\n",
       "      <td>60.010757</td>\n",
       "      <td>4</td>\n",
       "    </tr>\n",
       "    <tr>\n",
       "      <th>1</th>\n",
       "      <td>27</td>\n",
       "      <td>90.010411</td>\n",
       "      <td>5</td>\n",
       "    </tr>\n",
       "    <tr>\n",
       "      <th>2</th>\n",
       "      <td>28</td>\n",
       "      <td>90.010411</td>\n",
       "      <td>5</td>\n",
       "    </tr>\n",
       "    <tr>\n",
       "      <th>3</th>\n",
       "      <td>25</td>\n",
       "      <td>90.010411</td>\n",
       "      <td>5</td>\n",
       "    </tr>\n",
       "    <tr>\n",
       "      <th>4</th>\n",
       "      <td>8</td>\n",
       "      <td>90.011918</td>\n",
       "      <td>5</td>\n",
       "    </tr>\n",
       "    <tr>\n",
       "      <th>...</th>\n",
       "      <th>...</th>\n",
       "      <td>...</td>\n",
       "      <td>...</td>\n",
       "      <td>...</td>\n",
       "    </tr>\n",
       "    <tr>\n",
       "      <th rowspan=\"5\" valign=\"top\">03716fb4-b3c3-4673-98f6-33f4c0acfdf5</th>\n",
       "      <th>10756</th>\n",
       "      <td>10582</td>\n",
       "      <td>9990.017426</td>\n",
       "      <td>335</td>\n",
       "    </tr>\n",
       "    <tr>\n",
       "      <th>10757</th>\n",
       "      <td>10576</td>\n",
       "      <td>9990.017426</td>\n",
       "      <td>335</td>\n",
       "    </tr>\n",
       "    <tr>\n",
       "      <th>10758</th>\n",
       "      <td>10568</td>\n",
       "      <td>9990.017426</td>\n",
       "      <td>335</td>\n",
       "    </tr>\n",
       "    <tr>\n",
       "      <th>10759</th>\n",
       "      <td>10584</td>\n",
       "      <td>9990.017426</td>\n",
       "      <td>335</td>\n",
       "    </tr>\n",
       "    <tr>\n",
       "      <th>10760</th>\n",
       "      <td>10589</td>\n",
       "      <td>9990.017426</td>\n",
       "      <td>335</td>\n",
       "    </tr>\n",
       "  </tbody>\n",
       "</table>\n",
       "<p>643627 rows × 3 columns</p>\n",
       "</div>"
      ],
      "text/plain": [
       "                                               id    timestamp round\n",
       "receiver                                                            \n",
       "809915f6-bc36-4a59-b8bb-78374e6d103d 0         14    60.010757     4\n",
       "                                     1         27    90.010411     5\n",
       "                                     2         28    90.010411     5\n",
       "                                     3         25    90.010411     5\n",
       "                                     4          8    90.011918     5\n",
       "...                                           ...          ...   ...\n",
       "03716fb4-b3c3-4673-98f6-33f4c0acfdf5 10756  10582  9990.017426   335\n",
       "                                     10757  10576  9990.017426   335\n",
       "                                     10758  10568  9990.017426   335\n",
       "                                     10759  10584  9990.017426   335\n",
       "                                     10760  10589  9990.017426   335\n",
       "\n",
       "[643627 rows x 3 columns]"
      ]
     },
     "execution_count": 248,
     "metadata": {},
     "output_type": "execute_result"
    }
   ],
   "source": [
    "allEventHandled = pd.concat(eventHandled.values(), keys=eventHandled.keys(), names=[\"receiver\"])\n",
    "allEventHandled"
   ]
  },
  {
   "cell_type": "code",
   "execution_count": 249,
   "metadata": {},
   "outputs": [],
   "source": [
    "allEventReceived = pd.concat(eventReceived.values(), keys=eventReceived.keys(), names=[\"receiver\"])"
   ]
  },
  {
   "cell_type": "code",
   "execution_count": 250,
   "metadata": {},
   "outputs": [
    {
     "data": {
      "text/html": [
       "<div>\n",
       "<style scoped>\n",
       "    .dataframe tbody tr th:only-of-type {\n",
       "        vertical-align: middle;\n",
       "    }\n",
       "\n",
       "    .dataframe tbody tr th {\n",
       "        vertical-align: top;\n",
       "    }\n",
       "\n",
       "    .dataframe thead th {\n",
       "        text-align: right;\n",
       "    }\n",
       "</style>\n",
       "<table border=\"1\" class=\"dataframe\">\n",
       "  <thead>\n",
       "    <tr style=\"text-align: right;\">\n",
       "      <th></th>\n",
       "      <th>number</th>\n",
       "    </tr>\n",
       "    <tr>\n",
       "      <th>round</th>\n",
       "      <th></th>\n",
       "    </tr>\n",
       "  </thead>\n",
       "  <tbody>\n",
       "    <tr>\n",
       "      <th>3</th>\n",
       "      <td>32</td>\n",
       "    </tr>\n",
       "    <tr>\n",
       "      <th>4</th>\n",
       "      <td>32</td>\n",
       "    </tr>\n",
       "    <tr>\n",
       "      <th>5</th>\n",
       "      <td>32</td>\n",
       "    </tr>\n",
       "    <tr>\n",
       "      <th>6</th>\n",
       "      <td>32</td>\n",
       "    </tr>\n",
       "    <tr>\n",
       "      <th>7</th>\n",
       "      <td>32</td>\n",
       "    </tr>\n",
       "    <tr>\n",
       "      <th>...</th>\n",
       "      <td>...</td>\n",
       "    </tr>\n",
       "    <tr>\n",
       "      <th>331</th>\n",
       "      <td>32</td>\n",
       "    </tr>\n",
       "    <tr>\n",
       "      <th>332</th>\n",
       "      <td>32</td>\n",
       "    </tr>\n",
       "    <tr>\n",
       "      <th>333</th>\n",
       "      <td>32</td>\n",
       "    </tr>\n",
       "    <tr>\n",
       "      <th>334</th>\n",
       "      <td>32</td>\n",
       "    </tr>\n",
       "    <tr>\n",
       "      <th>335</th>\n",
       "      <td>12</td>\n",
       "    </tr>\n",
       "  </tbody>\n",
       "</table>\n",
       "<p>333 rows × 1 columns</p>\n",
       "</div>"
      ],
      "text/plain": [
       "       number\n",
       "round        \n",
       "3          32\n",
       "4          32\n",
       "5          32\n",
       "6          32\n",
       "7          32\n",
       "...       ...\n",
       "331        32\n",
       "332        32\n",
       "333        32\n",
       "334        32\n",
       "335        12\n",
       "\n",
       "[333 rows x 1 columns]"
      ]
     },
     "execution_count": 250,
     "metadata": {},
     "output_type": "execute_result"
    }
   ],
   "source": [
    "eventsPerRound = allCreateEvent.groupby('round').size().reset_index().set_index('round').rename(columns={0: 'number'})\n",
    "eventsPerRound"
   ]
  },
  {
   "cell_type": "code",
   "execution_count": 251,
   "metadata": {},
   "outputs": [],
   "source": [
    "EVENTS_SIZE = eventsPerRound['number'].mean()\n",
    "GOSSIP_INTERVAL = 30\n",
    "NODE_COUNT = dead['id'].count()"
   ]
  },
  {
   "cell_type": "markdown",
   "metadata": {},
   "source": [
    "# Number of infected"
   ]
  },
  {
   "cell_type": "code",
   "execution_count": 26,
   "metadata": {},
   "outputs": [],
   "source": [
    "j = allEventHandled.reset_index().set_index('id') \\\n",
    "                   .join(allCreateEvent.set_index('id'), lsuffix='_handled', rsuffix='_created')\n",
    "j = j.reset_index()\n",
    "j = j[j.id.isin(consideredEvent)]\n",
    "j = j[['id', 'receiver','timestamp_handled', 'timestamp_created']]\n",
    "j['timestamp'] = j['timestamp_handled'] - ((j['timestamp_created']/30).astype('int32')+1)*30\n",
    "j = j[j.timestamp_created < 210]"
   ]
  },
  {
   "cell_type": "code",
   "execution_count": null,
   "metadata": {},
   "outputs": [],
   "source": [
    "lastId = j.max()['id']\n",
    "area_inf = pd.DataFrame(columns=['timestamp', 'number', 'std', 'max', 'min'])\n",
    "\n",
    "j2 = j\n",
    "\n",
    "for i in range(0, lastRound):\n",
    "    j2 = j2[j2.timestamp < (lastRound-i)*30 + 5]\n",
    "    k = np.array([j2[(j2.id == p)].drop_duplicates('receiver')['id'].count() for p in range(1,lastId+1)])\n",
    "\n",
    "    area_inf.loc[i] = [(lastRound-i)*30, k.mean(), k.std(), k.max(), k.min()]\n",
    "    \n",
    "area_inf"
   ]
  },
  {
   "cell_type": "code",
   "execution_count": null,
   "metadata": {},
   "outputs": [],
   "source": [
    "fig1 = plt.figure()\n",
    "\n",
    "ax1 = fig1.add_axes([0,0,1,1])\n",
    "ax1.set_title('#Infected processes vs time')\n",
    "ax1.set_xlabel('time (s) with 1 round = 30s')\n",
    "ax1.set_ylabel('#infected processes')\n",
    "\n",
    "ax1.xaxis.set_major_locator(MultipleLocator(GOSSIP_INTERVAL))\n",
    "\n",
    "#ax1.xaxis.set_major_locator(MultipleLocator(GOSSIP_INTERVAL*3))\n",
    "#ax1.xaxis.set_minor_locator(MultipleLocator(GOSSIP_INTERVAL))\n",
    "\n",
    "for i in range(1, lastId+1,int(lastId/10)):\n",
    "    t = j[j.id==i].sort_values('timestamp').drop_duplicates('receiver')\n",
    "    ax1.plot(t['timestamp'], range(1, t.count()['id']+1), '--', linewidth=1, marker='x', markersize=3, label=f'id={i}')\n",
    "\n",
    "plt.autoscale(False)\n",
    "plt.axhline(y=NODE_COUNT, linestyle='--', c='grey')\n",
    "plt.fill_between(area_inf['timestamp'], area_inf['min'], area_inf['max'], label='min-max', alpha=0.2, facecolor='blue')\n",
    "plt.fill_between(area_inf['timestamp'], area_inf['number'] + area_inf['std'], area_inf['number'] - area_inf['std'], label='std', alpha=0.2, facecolor='red')\n",
    "plt.plot(area_inf['timestamp'], area_inf['number'], '-', label='mean')\n",
    "\n",
    "ax1.legend()\n",
    "\n",
    "#plt.show()\n",
    "\n",
    "plt.savefig(OUTPUT_FOLDER.replace('.','_').replace('/','') + '.svg')"
   ]
  },
  {
   "cell_type": "markdown",
   "metadata": {},
   "source": [
    "# Delivery ratio"
   ]
  },
  {
   "cell_type": "code",
   "execution_count": null,
   "metadata": {},
   "outputs": [],
   "source": [
    "data = (allEventHandled.reset_index().drop_duplicates(['round', 'receiver', 'id']) \\\n",
    "                       .groupby(['round', 'receiver']) \\\n",
    "                       .size() \\\n",
    "                       .groupby('round').mean()) \\\n",
    "        .reset_index() \\\n",
    "        .set_index('round') \\\n",
    "        .rename(columns={0: 'deliveries'}) \\\n",
    "        .join(eventsPerRound)\n",
    "data['deliveryRatio'] = data['deliveries']/EVENTS_SIZE\n",
    "\n",
    "data = data.reset_index()[['round', 'deliveryRatio']]\n",
    "data"
   ]
  },
  {
   "cell_type": "code",
   "execution_count": null,
   "metadata": {},
   "outputs": [],
   "source": [
    "data['deliveryRatio'].describe()"
   ]
  },
  {
   "cell_type": "code",
   "execution_count": null,
   "metadata": {},
   "outputs": [],
   "source": [
    "fig = plt.figure()\n",
    "ax = fig.add_axes([0,0,1,1])\n",
    "ax.set_title('Delivery ratio in time')\n",
    "ax.set_xlabel('Round')\n",
    "ax.set_ylabel('Delivery ratio')\n",
    "\n",
    "plt.axhline(y=data['deliveryRatio'].mean(), linestyle='--', c='grey')\n",
    "plt.axhline(y=1, linestyle='--', linewidth=1, c='black')\n",
    "\n",
    "ax.plot(data['round'], data['deliveryRatio'], label='Uniform + random')\n",
    "\n",
    "ax.legend()\n",
    "plt.show()"
   ]
  },
  {
   "cell_type": "markdown",
   "metadata": {},
   "source": [
    "# Redundancy"
   ]
  },
  {
   "cell_type": "code",
   "execution_count": null,
   "metadata": {},
   "outputs": [],
   "source": [
    "final = pd.DataFrame(columns=['round', 'redundancy'])\n",
    "\n",
    "for node in nodes:\n",
    "    currentEventReceived = eventReceived[node]\n",
    "    currentEventHandled = eventHandled[node]\n",
    "\n",
    "    evEh = currentEventReceived.groupby('id').min().reset_index()[['id', 'timestamp']].set_index('id')\n",
    "    w = currentEventReceived \\\n",
    "        .set_index('id') \\\n",
    "        .join(\n",
    "            evEh, \n",
    "            lsuffix='_received', \n",
    "            rsuffix='_handled') \\\n",
    "        .query('timestamp_received > timestamp_handled') \\\n",
    "        .groupby('round') \\\n",
    "        .size() \\\n",
    "        .reset_index() \\\n",
    "        .set_index('round') \\\n",
    "        .join(currentEventReceived.groupby('round').size().reset_index().set_index('round'), \n",
    "              lsuffix='_redundant',\n",
    "              rsuffix='_total') \\\n",
    "        .reset_index()\n",
    "\n",
    "    w['redundancy'] = w['0_redundant']/w['0_total']\n",
    "    w = w[['round', 'redundancy']]\n",
    "    \n",
    "    final = pd.concat([final,w])\n",
    "    \n",
    "final = final.groupby('round') \\\n",
    "             .mean() \\\n",
    "             .reset_index()"
   ]
  },
  {
   "cell_type": "code",
   "execution_count": null,
   "metadata": {},
   "outputs": [],
   "source": [
    "final['redundancy'].describe()\n"
   ]
  },
  {
   "cell_type": "code",
   "execution_count": null,
   "metadata": {},
   "outputs": [],
   "source": [
    "fig = plt.figure()\n",
    "ax = fig.add_axes([0,0,1,1])\n",
    "ax.set_title('Redundancy in time')\n",
    "ax.set_xlabel('Round')\n",
    "ax.set_ylabel('Redundancy')\n",
    "\n",
    "ax.plot(final['round'], final['redundancy'], label='Uniform + random', color='red')\n",
    "ax.axhline(final['redundancy'][15:].mean(), linestyle='--', color='red')\n",
    "\n",
    "ax.legend()\n",
    "plt.show()"
   ]
  },
  {
   "cell_type": "markdown",
   "metadata": {},
   "source": [
    "# Reliability"
   ]
  },
  {
   "cell_type": "code",
   "execution_count": 252,
   "metadata": {},
   "outputs": [],
   "source": [
    "def prepare(i, timestamp):\n",
    "    return set(dead[(dead.timestamp < 0) | (dead.timestamp > timestamp + GOSSIP_INTERVAL*15)]['id'])\n",
    "\n",
    "def p(i, r):\n",
    "    return r in aliveForMessageId[i]\n",
    "    \n",
    "aliveForMessageId = {l.id: prepare(l.id, l.timestamp) for index, l in allCreateEvent.iterrows()}"
   ]
  },
  {
   "cell_type": "code",
   "execution_count": 253,
   "metadata": {},
   "outputs": [],
   "source": [
    "w = allEventHandled.reset_index()\n",
    "w = w[w.id.isin(consideredEvent)]\n",
    "w = w[[p(r['id'], r['receiver']) for _i, r in w.iterrows()]]\n",
    "w = w.reset_index().sort_values('timestamp').drop_duplicates(['receiver', 'id']).groupby('id').size().reset_index().rename(columns={0: 'nHandled'})\n",
    "w['nAlive'] = [len(aliveForMessageId[i]) for i in w.id]"
   ]
  },
  {
   "cell_type": "code",
   "execution_count": 254,
   "metadata": {},
   "outputs": [
    {
     "data": {
      "text/plain": [
       "count    10144.000000\n",
       "mean         0.997514\n",
       "std          0.024568\n",
       "min          0.100000\n",
       "25%          1.000000\n",
       "50%          1.000000\n",
       "75%          1.000000\n",
       "max          1.000000\n",
       "Name: ratio, dtype: float64"
      ]
     },
     "execution_count": 254,
     "metadata": {},
     "output_type": "execute_result"
    }
   ],
   "source": [
    "w['ratio'] = w['nHandled'] / w['nAlive']\n",
    "w['ratio'].describe()"
   ]
  },
  {
   "cell_type": "markdown",
   "metadata": {},
   "source": [
    "# Throughput"
   ]
  },
  {
   "cell_type": "code",
   "execution_count": 255,
   "metadata": {},
   "outputs": [
    {
     "data": {
      "image/png": "[encoded data removed]",
      "text/plain": [
       "<Figure size 432x288 with 1 Axes>"
      ]
     },
     "metadata": {
      "needs_background": "light"
     },
     "output_type": "display_data"
    }
   ],
   "source": [
    "plt.hist(w['ratio'], weights=np.ones(len(w))/len(w), bins=100)\n",
    "plt.gca().yaxis.set_major_formatter(PercentFormatter(1))\n",
    "plt.show()"
   ]
  },
  {
   "cell_type": "code",
   "execution_count": 256,
   "metadata": {},
   "outputs": [
    {
     "data": {
      "text/plain": [
       "0.9151222397476341"
      ]
     },
     "execution_count": 256,
     "metadata": {},
     "output_type": "execute_result"
    }
   ],
   "source": [
    "sum(w['nHandled'] == w['nAlive']) / w['id'].count()"
   ]
  },
  {
   "cell_type": "markdown",
   "metadata": {},
   "source": [
    "# Retrieve ratio"
   ]
  },
  {
   "cell_type": "code",
   "execution_count": null,
   "metadata": {},
   "outputs": [],
   "source": []
  },
  {
   "cell_type": "markdown",
   "metadata": {},
   "source": [
    "# Tests"
   ]
  },
  {
   "cell_type": "code",
   "execution_count": null,
   "metadata": {},
   "outputs": [],
   "source": [
    "# Non opt\n",
    "# % non opt 15 view 11_15\n",
    "#     % count    4120.000000\n",
    "#     % mean        0.852454\n",
    "#     % std         0.173371\n",
    "#     % min         0.040000\n",
    "#     % max         1.000000\n",
    "# % non opt 20 view 11_19\n",
    "#     % count    4160.000000\n",
    "#     % mean        0.855604\n",
    "#     % std         0.171855\n",
    "#     % min         0.040000\n",
    "#     % max         1.000000\n",
    "# % non opt 25 view 11_23\n",
    "#     % count    4280.000000\n",
    "#     % mean        0.860574\n",
    "#     % std         0.170947\n",
    "#     % min         0.040000\n",
    "#     % max         1.000000\n",
    "# % non opt 30 view 11_28\n",
    "#     % count    4320.000000\n",
    "#     % mean        0.861374\n",
    "#     % std         0.171638\n",
    "#     % min         0.040000\n",
    "#     % max         1.000000\n",
    "# % non opt 35 view 11_33\n",
    "#     % count    4320.000000\n",
    "#     % mean        0.859694\n",
    "#     % std         0.174771\n",
    "#     % min         0.040000\n",
    "#     % max         1.000000\n",
    "\n",
    "# Opt\n",
    "# % opt 15 view 11_40\n",
    "#     % count    12960.000000\n",
    "#     % mean         0.964959\n",
    "#     % std          0.065632\n",
    "#     % min          0.040000\n",
    "#     % max          1.000000\n",
    "# % opt 20 view 12_19\n",
    "#     % count    13320.000000\n",
    "#     % mean         0.964506\n",
    "#     % std          0.075456\n",
    "#     % min          0.040000\n",
    "#     % max          1.000000\n",
    "# % opt 25 view 12_26\n",
    "#     % count    13800.000000\n",
    "#     % mean         0.968791\n",
    "#     % std          0.069442\n",
    "#     % min          0.040000\n",
    "#     % max          1.000000\n",
    "# % opt 30 view 12_39\n",
    "#     % count    13960.000000\n",
    "#     % mean         0.969332\n",
    "#     % std          0.070489\n",
    "#     % min          0.040000\n",
    "#     % max          1.000000\n",
    "# % opt 35 view 12_46\n",
    "#     % count    14360.000000\n",
    "#     % mean         0.970022\n",
    "#     % std          0.079817\n",
    "#     % min          0.040000\n",
    "#     % max          1.000000\n",
    "\n",
    "fig = plt.figure()\n",
    "ax = fig.add_axes([0,0,1,1])\n",
    "\n",
    "x = [15, 20, 25, 30, 35]\n",
    "ynopt = np.array([0.852454, 0.855604, 0.860574, 0.861374, 0.859694])\n",
    "stdnopt = np.array([0.173371, 0.171855, 0.170947, 0.171638, 0.174771])\n",
    "\n",
    "yopt = np.array([0.964959, 0.964506, 0.968791, 0.969332, 0.970022])\n",
    "stdopt = np.array([0.065632, 0.075456, 0.069442, 0.070489, 0.079817])\n",
    "\n",
    "plt.plot(x, ynopt, label='Not optimized', marker='x', color='tab:blue')\n",
    "plt.plot(x, yopt, label='Optimized', marker='x', color='tab:orange')\n",
    "\n",
    "plt.fill_between(x, ynopt + stdnopt, ynopt - stdnopt, label='std unoptimized', alpha=0.2, facecolor='tab:blue')\n",
    "plt.fill_between(x, yopt + stdopt, yopt - stdopt, label='std optimized', alpha=0.2, facecolor='tab:orange')\n",
    "\n",
    "ax.set_title('Reliability vs view size')\n",
    "ax.set_xlabel('View size')\n",
    "ax.set_ylabel('Reliability')\n",
    "ax.xaxis.set_major_locator(MultipleLocator(5))\n",
    "ax.legend()\n",
    "\n",
    "plt.savefig('rvv.svg')"
   ]
  },
  {
   "cell_type": "code",
   "execution_count": 265,
   "metadata": {},
   "outputs": [
    {
     "data": {
      "image/png": "[encoded data removed]",
      "text/plain": [
       "<Figure size 432x288 with 1 Axes>"
      ]
     },
     "metadata": {
      "needs_background": "light"
     },
     "output_type": "display_data"
    }
   ],
   "source": [
    "# 60 node_count\n",
    "# 0.59 initial_view_perc\n",
    "\n",
    "# 120 event_ids_size\n",
    "\n",
    "# 0.1 dropped_rate\n",
    "\n",
    "# 0.05 death_rate\n",
    "\n",
    "# 0.013 mean_latency\n",
    "# 0.003 var_latency\n",
    "\n",
    "# 0 events_var_rate\n",
    "\n",
    "# 10 subs_size\n",
    "# 5 un_subs_size\n",
    "# 15 views_size\n",
    "# 4 fanout_size\n",
    "# 1 k\n",
    "\n",
    "fig = plt.figure()\n",
    "ax = fig.add_axes([0,0,1,1])\n",
    "\n",
    "x = [20, 25, 30, 35, 40, 45, 50, 55]#, 60]\n",
    "\n",
    "ynopt = np.array([12, 15, 15, 17, 17, 19, 22, 27])\n",
    "yopt = np.array([12, 15, 18, 20, 23, 27, 30, 32])\n",
    "yopt_and_sub  = np.array([10, 12, 15, 17, 17, 19, 21, 26])\n",
    "\n",
    "rt_ynopt = np.array([14, 18, 19, 26, 30, 33, 37, 40])\n",
    "rt_yopt = np.array([12, 16, 18, 19, 24, 26, 29, 30])\n",
    "\n",
    "\n",
    "\n",
    "plt.plot(x, ynopt, label='Not optimized', marker='x', color='tab:blue')\n",
    "plt.plot(x, yopt, label='Events buffer optimization', marker='x', color='tab:orange')\n",
    "plt.plot(x, yopt_and_sub, label='Both optimizations', marker='x', color='tab:red')\n",
    "\n",
    "plt.plot(x, rt_ynopt, label='Not optimized (mine retrieve)', marker='x', color='tab:cyan')\n",
    "plt.plot(x, rt_yopt, label='Events buffer optimization (mine retrieve)', marker='x', color='magenta')\n",
    "\n",
    "ax.set_title('Throughput vs |events|')\n",
    "ax.set_xlabel('|events|')\n",
    "ax.set_ylabel('Throughput')\n",
    "ax.xaxis.set_major_locator(MultipleLocator(5))\n",
    "plt.xlim(left=20)\n",
    "plt.ylim(bottom=0)\n",
    "\n",
    "ax.legend()\n",
    "\n",
    "plt.savefig('th.svg')"
   ]
  },
  {
   "cell_type": "markdown",
   "metadata": {},
   "source": [
    "## Delivery and redundancy"
   ]
  },
  {
   "cell_type": "code",
   "execution_count": null,
   "metadata": {},
   "outputs": [],
   "source": [
    "non_opt_deliveryRatio = (data['round'], data['deliveryRatio'])\n",
    "non_opt_redundancy = (final['round'], final['redundancy'])"
   ]
  },
  {
   "cell_type": "code",
   "execution_count": null,
   "metadata": {},
   "outputs": [],
   "source": [
    "opt_deliveryRatio = (data['round'], data['deliveryRatio'])\n",
    "opt_redundancy = (final['round'], final['redundancy'])"
   ]
  },
  {
   "cell_type": "code",
   "execution_count": null,
   "metadata": {},
   "outputs": [],
   "source": [
    "fig = plt.figure()\n",
    "ax = fig.add_axes([0,0,1,1])\n",
    "ax.set_title('Redundancy in time')\n",
    "ax.set_xlabel('Round')\n",
    "ax.set_ylabel('Redundancy')\n",
    "\n",
    "ax.plot(non_opt_redundancy[0], non_opt_redundancy[1], label='With failures', color='tab:blue')\n",
    "ax.axhline(non_opt_redundancy[1][15:].mean(), linestyle='--', color='tab:blue')\n",
    "\n",
    "ax.plot(opt_redundancy[0], opt_redundancy[1], label='Without failures (both system and message)', color='tab:orange')\n",
    "ax.axhline(opt_redundancy[1][15:].mean(), linestyle='--', color='tab:orange')\n",
    "\n",
    "ax.legend()\n",
    "plt.savefig('rd.svg')"
   ]
  },
  {
   "cell_type": "code",
   "execution_count": null,
   "metadata": {},
   "outputs": [],
   "source": [
    "fig = plt.figure()\n",
    "ax = fig.add_axes([0,0,1,1])\n",
    "ax.set_title('Delivery ratio in time')\n",
    "ax.set_xlabel('Round')\n",
    "ax.set_ylabel('Delivery ratio')\n",
    "\n",
    "plt.axhline(y=1, linestyle='--', linewidth=1, c='black')\n",
    "\n",
    "ax.plot(non_opt_deliveryRatio[0], non_opt_deliveryRatio[1], label='With failures', color='tab:blue')\n",
    "plt.axhline(y=non_opt_deliveryRatio[1].mean(), linestyle='--', color='tab:blue')\n",
    "\n",
    "ax.plot(opt_deliveryRatio[0], opt_deliveryRatio[1], label='Without failures (both system and message)', color='tab:orange')\n",
    "plt.axhline(y=opt_deliveryRatio[1].mean(), linestyle='--', color='tab:orange')\n",
    "\n",
    "ax.legend()\n",
    "plt.savefig('drr.svg')"
   ]
  },
  {
   "cell_type": "code",
   "execution_count": null,
   "metadata": {},
   "outputs": [],
   "source": [
    "1. > float('nan')"
   ]
  },
  {
   "cell_type": "code",
   "execution_count": null,
   "metadata": {},
   "outputs": [],
   "source": []
  }
 ],
 "metadata": {
  "kernelspec": {
   "display_name": "Python 3",
   "language": "python",
   "name": "python3"
  },
  "language_info": {
   "codemirror_mode": {
    "name": "ipython",
    "version": 3
   },
   "file_extension": ".py",
   "mimetype": "text/x-python",
   "name": "python",
   "nbconvert_exporter": "python",
   "pygments_lexer": "ipython3",
   "version": "3.8.0"
  }
 },
 "nbformat": 4,
 "nbformat_minor": 4
}
